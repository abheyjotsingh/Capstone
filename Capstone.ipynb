{
 "cells": [
  {
   "cell_type": "markdown",
   "metadata": {},
   "source": [
    "# Title\n",
    "\n",
    "Author\n",
    "\n",
    "Scope of the Capstone\n",
    "Exploratory data analysis of Windows-based process events"
   ]
  },
  {
   "cell_type": "markdown",
   "metadata": {},
   "source": [
    "Before each section put an explanation of what the code is doing"
   ]
  },
  {
   "cell_type": "code",
   "execution_count": 4,
   "metadata": {
    "collapsed": true
   },
   "outputs": [],
   "source": [
    "import pandas as pd\n",
    "import numpy as np\n",
    "import matplotlib.pyplot as plt\n",
    "import seaborn as sns\n",
    "%matplotlib inline"
   ]
  },
  {
   "cell_type": "markdown",
   "metadata": {},
   "source": [
    "### importing data here"
   ]
  },
  {
   "cell_type": "code",
   "execution_count": 5,
   "metadata": {
    "collapsed": true
   },
   "outputs": [],
   "source": [
    "columns = ['time', 'username', 'computer', 'process_name', 'start_or_stop']\n",
    "df = pd.read_csv(\"C:\\\\Users\\\\kim\\\\data\\\\proc.txt\", nrows=50000)\n",
    "df.columns=columns"
   ]
  },
  {
   "cell_type": "markdown",
   "metadata": {},
   "source": [
    "The data used in this capstone project is a 58 day, de-identified capture of users, computers, and processes on a network.  The data was retrieved from Windows endpoints/computers on the network and although de-identified, maintain the similar information to what can be found in normal Windows Security Event Logs.  This particular data, stop and start times for individual computer systems directly translate to Windows start and stop event IDs: 4688 and 4689.  These represent granular workstation activity and can be used to identify what happens on the workstation after the user has logged in. The data was made available from Los Alamos National Laboratory, and can be retrieved here:\n",
    "https://csr.lanl.gov/data/cyber1/\n",
    "\n",
    "A. D. Kent, “Comprehensive, Multi-Source Cybersecurity Events,” Los Alamos National Laboratory, http://dx.doi.org/10.17021/1179829, 2015.\n",
    "\n",
    "@Misc{kent-2015-cyberdata1,\n",
    "  author =     {Alexander D. Kent},\n",
    "  title =      {{Comprehensive, Multi-Source Cyber-Security Events}},\n",
    "  year =       {2015},\n",
    "  howpublished = {Los Alamos National Laboratory},\n",
    "  doi = {10.17021/1179829}\n",
    "}\n",
    "\n",
    "The data will have the format of: \n",
    "\"time,user@domain,computer,process name,start/end\" and represents a process event at the given time. Time starts at epoch 1 and increments at 1 second.  \n",
    "\n",
    "When a new process is started on a workstation for the first time, it's a significant event.  This could indicate malware, Advanced persistant threats (APTs), or unauthorized changes to a system."
   ]
  },
  {
   "cell_type": "markdown",
   "metadata": {},
   "source": [
    "### Examining Features of the Data Set"
   ]
  },
  {
   "cell_type": "code",
   "execution_count": 12,
   "metadata": {},
   "outputs": [
    {
     "name": "stdout",
     "output_type": "stream",
     "text": [
      "Total Number of Users:  3008\n",
      "Maximum records for a user in the data:  1637\n",
      "User that was the most active:  C1685$@DOM1\n"
     ]
    }
   ],
   "source": [
    "print(\"Total Number of Users: \", df['username'].nunique())\n",
    "print(\"Maximum records for a user in the data: \", df['username'].value_counts().max())\n",
    "print(\"User that was the most active: \", df['username'].mode()[0]) "
   ]
  },
  {
   "cell_type": "code",
   "execution_count": 7,
   "metadata": {},
   "outputs": [
    {
     "name": "stdout",
     "output_type": "stream",
     "text": [
      "Total Number of Computers:  2471\n",
      "Number of times the highest computer was seen in the data:  1637\n",
      "Computer that was seen most frequently:  0    C1685\n",
      "dtype: object\n"
     ]
    }
   ],
   "source": [
    "print(\"Total Number of Computers: \", df['computer'].nunique())\n",
    "print(\"Maximum number of records for computer: \", df['computer'].value_counts().max())\n",
    "print(\"Computer that was seen most frequently: \", df['computer'].mode()[0])"
   ]
  },
  {
   "cell_type": "code",
   "execution_count": 8,
   "metadata": {},
   "outputs": [
    {
     "data": {
      "text/plain": [
       "<matplotlib.text.Text at 0x2312be3f4e0>"
      ]
     },
     "execution_count": 8,
     "metadata": {},
     "output_type": "execute_result"
    },
    {
     "data": {
      "image/png": "[encoded data removed]",
      "text/plain": [
       "<matplotlib.figure.Figure at 0x2312bc552b0>"
      ]
     },
     "metadata": {},
     "output_type": "display_data"
    }
   ],
   "source": [
    "computers_df = df['computer'].value_counts().reset_index() \n",
    "columns = ['computer','count']\n",
    "computers_df.columns=columns\n",
    "plt.hist(computers_df['count'])\n",
    "plt.title('Computer Histogram')\n",
    "plt.ylabel('Number of times Computers were seen on the network')"
   ]
  },
  {
   "cell_type": "code",
   "execution_count": 13,
   "metadata": {},
   "outputs": [
    {
     "data": {
      "text/plain": [
       "<matplotlib.text.Text at 0x2312c07b2e8>"
      ]
     },
     "execution_count": 13,
     "metadata": {},
     "output_type": "execute_result"
    },
    {
     "data": {
      "image/png": "[encoded data removed]",
      "text/plain": [
       "<matplotlib.figure.Figure at 0x2312bc55048>"
      ]
     },
     "metadata": {},
     "output_type": "display_data"
    }
   ],
   "source": [
    "#plot computers_df in logscale\n",
    "computers_df = df['computer'].value_counts().reset_index() \n",
    "columns = ['computer','count']\n",
    "computers_df.columns=columns\n",
    "plt.hist(computers_df['count'].apply(np.log))\n",
    "plt.title('Computer Histogram')\n",
    "plt.ylabel('Number of times Computers were seen on the network')\n",
    "#add in logscale to the lable add sentence why we would do that \n",
    "# it is easier for models and visualizations to work "
   ]
  },
  {
   "cell_type": "code",
   "execution_count": 15,
   "metadata": {},
   "outputs": [
    {
     "name": "stdout",
     "output_type": "stream",
     "text": [
      "Total Number of Unique Processes:  311\n",
      "The most frequenty seen process was seen this many times:  10299\n",
      "Process that was seen most frequently:  P16\n"
     ]
    }
   ],
   "source": [
    "print(\"Total Number of Unique Processes: \", df['process_name'].nunique())\n",
    "print(\"Process that was seen most frequently: \", df['process_name'].mode()[0])\n",
    "print(\"The most frequenty seen process was seen this many times: \", df['process_name'].value_counts().max())\n",
    "# add in the percentage of this process"
   ]
  },
  {
   "cell_type": "code",
   "execution_count": 16,
   "metadata": {},
   "outputs": [
    {
     "data": {
      "text/plain": [
       "count      311.000000\n",
       "mean       160.771704\n",
       "std        763.610838\n",
       "min          1.000000\n",
       "25%          2.000000\n",
       "50%          6.000000\n",
       "75%         31.000000\n",
       "max      10299.000000\n",
       "Name: process_name, dtype: float64"
      ]
     },
     "execution_count": 16,
     "metadata": {},
     "output_type": "execute_result"
    }
   ],
   "source": [
    "process_df = df['process_name'].value_counts()\n",
    "process_df.describe([])"
   ]
  },
  {
   "cell_type": "markdown",
   "metadata": {},
   "source": [
    "The describe method from pandas gives us some interesting information about the data.  Most of the computers have less than 32 processes running on them for the given time period.  The most unique processes were only seen once during the time period. "
   ]
  },
  {
   "cell_type": "code",
   "execution_count": null,
   "metadata": {},
   "outputs": [],
   "source": [
    "plt.hist(process_df)\n",
    "plt.title('Process Histogram')\n",
    "plt.ylabel('Number of Process')"
   ]
  },
  {
   "cell_type": "code",
   "execution_count": null,
   "metadata": {},
   "outputs": [],
   "source": [
    "print(\"Latest Time seen in data: \", df['time'].max())\n",
    "print(\"Earlieset Time seen in data: \", df['time'].min())"
   ]
  },
  {
   "cell_type": "code",
   "execution_count": null,
   "metadata": {},
   "outputs": [],
   "source": [
    "print(\"Total number of start and stop events: \")\n",
    "df['start_or_stop'].value_counts()"
   ]
  },
  {
   "cell_type": "code",
   "execution_count": null,
   "metadata": {},
   "outputs": [],
   "source": [
    "avg_u = df.groupby(['username'])['computer'].nunique()\n",
    "print(\"Average number of computers per user: \")\n",
    "avg_u_mean = avg_u.mean()\n",
    "print(avg_u_mean)\n",
    "print(\"Maximum number of computers used by a user\")\n",
    "avg_u_max = avg_u.max()\n",
    "print(avg_u_max)"
   ]
  },
  {
   "cell_type": "code",
   "execution_count": null,
   "metadata": {},
   "outputs": [],
   "source": [
    "#Did I do this right????\n",
    "\n",
    "avg_p = df.groupby(['username','computer'])['process_name'].value_counts()\n",
    "avg_p"
   ]
  },
  {
   "cell_type": "markdown",
   "metadata": {},
   "source": [
    "If we had seen a maximum number closer to the total number of computers in the environment, this could indicate a brute force attack (possibly) against the environment."
   ]
  },
  {
   "cell_type": "code",
   "execution_count": null,
   "metadata": {},
   "outputs": [],
   "source": [
    "df_grouped = df.groupby(['username','computer','process_name'])['username'].count().to_frame()\n",
    "df_grouped.columns = ['process_counts']\n",
    "df_grouped\n",
    "df_grouped2 = df_grouped.reset_index()\n",
    "df_grouped2.head()"
   ]
  },
  {
   "cell_type": "code",
   "execution_count": null,
   "metadata": {
    "collapsed": true
   },
   "outputs": [],
   "source": [
    "#sns.boxplot(x = 'username', y = 'process_counts', hue='process_name', data=df_grouped2)"
   ]
  },
  {
   "cell_type": "code",
   "execution_count": null,
   "metadata": {},
   "outputs": [],
   "source": [
    "df_byuser = df_grouped2.set_index(['username'])\n",
    "df_byuser"
   ]
  },
  {
   "cell_type": "code",
   "execution_count": null,
   "metadata": {
    "collapsed": true
   },
   "outputs": [],
   "source": [
    "df_byuser.groupby(level=0)['process_counts'].sum().sort_values()\n"
   ]
  },
  {
   "cell_type": "code",
   "execution_count": null,
   "metadata": {
    "collapsed": true
   },
   "outputs": [],
   "source": [
    "df_byuser.loc['C1183$@DOM1']"
   ]
  },
  {
   "cell_type": "code",
   "execution_count": null,
   "metadata": {
    "collapsed": true
   },
   "outputs": [],
   "source": [
    "sns.barplot(x='process_name', y='process_counts', data = df_byuser.loc['C1183$@DOM1'])"
   ]
  },
  {
   "cell_type": "markdown",
   "metadata": {},
   "source": [
    "To see the most used computer, or the computer where the most processes were run, we get the maximum."
   ]
  },
  {
   "cell_type": "code",
   "execution_count": null,
   "metadata": {
    "collapsed": true
   },
   "outputs": [],
   "source": []
  },
  {
   "cell_type": "markdown",
   "metadata": {},
   "source": [
    "Let's plot this."
   ]
  },
  {
   "cell_type": "code",
   "execution_count": null,
   "metadata": {
    "collapsed": true
   },
   "outputs": [],
   "source": []
  },
  {
   "cell_type": "code",
   "execution_count": null,
   "metadata": {
    "collapsed": true
   },
   "outputs": [],
   "source": []
  },
  {
   "cell_type": "code",
   "execution_count": null,
   "metadata": {
    "collapsed": true
   },
   "outputs": [],
   "source": [
    "cdf= df.groupby('username')['computer'].value_counts()\n",
    "cdf\n"
   ]
  },
  {
   "cell_type": "code",
   "execution_count": null,
   "metadata": {
    "collapsed": true
   },
   "outputs": [],
   "source": [
    "df['z_score'] = df.groupby('computer')['process_name'].apply(lambda x: (x - x.mean())/x.std())"
   ]
  },
  {
   "cell_type": "code",
   "execution_count": null,
   "metadata": {
    "collapsed": true
   },
   "outputs": [],
   "source": [
    "num_com = df.groupby('username')['computer'].count()\n",
    "num_com"
   ]
  },
  {
   "cell_type": "markdown",
   "metadata": {
    "collapsed": true
   },
   "source": [
    "To find the most active user, we get the total of all of the users."
   ]
  },
  {
   "cell_type": "code",
   "execution_count": null,
   "metadata": {
    "collapsed": true
   },
   "outputs": [],
   "source": [
    "sns.distplot(num_com, color='r', axlabel='Number of Computer Used')"
   ]
  },
  {
   "cell_type": "code",
   "execution_count": null,
   "metadata": {
    "collapsed": true
   },
   "outputs": [],
   "source": [
    "df['computer'].count()"
   ]
  },
  {
   "cell_type": "code",
   "execution_count": null,
   "metadata": {
    "collapsed": true
   },
   "outputs": [],
   "source": [
    "df['username'].count()"
   ]
  },
  {
   "cell_type": "code",
   "execution_count": null,
   "metadata": {
    "collapsed": true
   },
   "outputs": [],
   "source": [
    "df['process_name'].nunique()"
   ]
  },
  {
   "cell_type": "code",
   "execution_count": null,
   "metadata": {
    "collapsed": true
   },
   "outputs": [],
   "source": [
    "df[df['username']=='C1183$@DOM1']"
   ]
  }
 ],
 "metadata": {
  "kernelspec": {
   "display_name": "Python 3",
   "language": "python",
   "name": "python3"
  },
  "language_info": {
   "codemirror_mode": {
    "name": "ipython",
    "version": 3
   },
   "file_extension": ".py",
   "mimetype": "text/x-python",
   "name": "python",
   "nbconvert_exporter": "python",
   "pygments_lexer": "ipython3",
   "version": "3.6.1"
  }
 },
 "nbformat": 4,
 "nbformat_minor": 2
}
