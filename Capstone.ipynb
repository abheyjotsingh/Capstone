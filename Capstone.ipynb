{
 "cells": [
  {
   "cell_type": "markdown",
   "metadata": {},
   "source": [
    "# Data Science Capstone Project \n",
    "##  Analysis of Process Events from the Comprehensive, Multi-Source Cybersecurity Events\n",
    "\n",
    "## Kimberly Nowell-Berry\n",
    "###  September 2017\n",
    "\n",
    "### Purpose\n",
    "The purpose of this capstone project is analyze and visualize data from the Comprehensive, Multi-Source Cybersecurity Events.  Specifically, this project concentrates on process events. Exploratory data analysis of Windows-based process events that includes visualizations and observations is presented.  In cybersecurity, information about processes can be used to identify anomalous process that may indicate the presence of malware, advanced persistent threats (APTs), unauthorized changes to the system, or more generally, performance information about the processes or computers themselves.  This project tries to identify similar users, i.e., users that run similar processes.\n",
    "\n",
    "### Data\n",
    "\n",
    "The data used in this capstone project is a 58 day, de-identified capture of users, computers, and processes on a network.  The data was retrieved from Windows endpoints/computers on the network and although de-identified, maintain the similar information to what can be found in normal Windows Security Event Logs.  This particular data, stop and start times for individual computer systems directly translate to Windows start and stop event IDs: 4688 and 4689.  These represent granular workstation activity and can be used to identify what happens on the workstation after the user has logged in. The data was made available from Los Alamos National Laboratory, and can be retrieved here:\n",
    "https://csr.lanl.gov/data/cyber1/\n",
    "\n",
    "A. D. Kent, “Comprehensive, Multi-Source Cybersecurity Events,” Los Alamos National Laboratory, http://dx.doi.org/10.17021/1179829, 2015.\n",
    "\n",
    "#### Data Format\n",
    "The data will have the format of: \n",
    "\"time,user@domain,computer,process name,start/end\" and represents a process event at the given time. \n",
    "\n",
    "1. time\n",
    " Time starts at epoch 1 and increments at 1 second.  \n",
    "2. user@domain\n",
    " This data identifies a unique user.  You might see U1@DOM1 and U1@COMP2.  These are unique users:  the first identifies a user on a domain, and the second identifies a local user account on a computer.  This may translate to the same person, but they are unique accounts, i.e., the person may have 2 accounts.  This cannot be assumed, however, and is treated as unique.  Unique identification of users helps attribution of events.\n",
    "3.  computer\n",
    " This data identifies a unique computer.\n",
    "4.  process name\n",
    " This data identifies unique processes. \n",
    "5.  start/end\n",
    " This is a categorical feature that identifies whether or not the process in the event was started or stopped.  "
   ]
  },
  {
   "cell_type": "markdown",
   "metadata": {},
   "source": [
    "### Importing the necessary libraries"
   ]
  },
  {
   "cell_type": "code",
   "execution_count": 1,
   "metadata": {
    "collapsed": true
   },
   "outputs": [],
   "source": [
    "import pandas as pd\n",
    "import numpy as np\n",
    "import matplotlib.pyplot as plt\n",
    "import seaborn as sns\n",
    "%matplotlib inline"
   ]
  },
  {
   "cell_type": "markdown",
   "metadata": {},
   "source": [
    "### Importing Data"
   ]
  },
  {
   "cell_type": "code",
   "execution_count": 2,
   "metadata": {
    "collapsed": true
   },
   "outputs": [],
   "source": [
    "columns = ['time', 'username', 'computer', 'process_name', 'start_or_stop']\n",
    "df = pd.read_csv(\"C:\\\\Users\\\\kim\\\\data\\\\proc.txt\", nrows=50000)\n",
    "df.columns=columns"
   ]
  },
  {
   "cell_type": "markdown",
   "metadata": {},
   "source": [
    "### Feature Analysis"
   ]
  },
  {
   "cell_type": "markdown",
   "metadata": {},
   "source": [
    "#### Users \n",
    "Users are a principal component of this data set.  They are the actor of the event and can be used to attribute specific actions."
   ]
  },
  {
   "cell_type": "code",
   "execution_count": 3,
   "metadata": {},
   "outputs": [
    {
     "name": "stdout",
     "output_type": "stream",
     "text": [
      "Total Number of Users:  3008\n",
      "Maximum records for a user in the data:  1637\n",
      "User that was the most active:  C1685$@DOM1\n"
     ]
    }
   ],
   "source": [
    "print(\"Total Number of Users: \", df['username'].nunique())\n",
    "print(\"Maximum records for a user in the data: \", df['username'].value_counts().max())\n",
    "print(\"User that was the most active: \", df['username'].mode()[0]) "
   ]
  },
  {
   "cell_type": "markdown",
   "metadata": {},
   "source": [
    "####  Computers \n",
    "Computers indicate where on network the processes were run.  "
   ]
  },
  {
   "cell_type": "code",
   "execution_count": 4,
   "metadata": {},
   "outputs": [
    {
     "name": "stdout",
     "output_type": "stream",
     "text": [
      "Total Number of Computers:  2471\n",
      "Number of events associated with the computer that was seen most frequently:  1637\n",
      "Computer that was seen most frequently:  C1685\n"
     ]
    }
   ],
   "source": [
    "print(\"Total Number of Computers: \", df['computer'].nunique())\n",
    "print(\"Number of events associated with the computer that was seen most frequently: \", df['computer'].value_counts().max())\n",
    "print(\"Computer that was seen most frequently: \", df['computer'].mode()[0])"
   ]
  },
  {
   "cell_type": "markdown",
   "metadata": {},
   "source": [
    "##### Visualization of Computer Frequency"
   ]
  },
  {
   "cell_type": "code",
   "execution_count": 5,
   "metadata": {},
   "outputs": [
    {
     "data": {
      "text/plain": [
       "<matplotlib.text.Text at 0x1a370984358>"
      ]
     },
     "execution_count": 5,
     "metadata": {},
     "output_type": "execute_result"
    },
    {
     "data": {
      "image/png": "[encoded data removed]",
      "text/plain": [
       "<matplotlib.figure.Figure at 0x1a3707979b0>"
      ]
     },
     "metadata": {},
     "output_type": "display_data"
    }
   ],
   "source": [
    "computers_df = df['computer'].value_counts().reset_index() \n",
    "columns = ['computer','count']\n",
    "computers_df.columns=columns\n",
    "plt.hist(computers_df['count'])\n",
    "plt.title('Computer Frequency')\n",
    "plt.ylabel('Computers')\n",
    "plt.xlabel('Number of Computers')"
   ]
  },
  {
   "cell_type": "markdown",
   "metadata": {},
   "source": [
    "##### Visualization of Computer Frequency part 2\n",
    "Because the previous visualization highly skewed, to understand the data better, the data is now represented in logscale.  This representation shows that most computers are seen approximately 150 times or less in the data set.  Representing in logscale removes outliers, and allows for better visualization."
   ]
  },
  {
   "cell_type": "code",
   "execution_count": 6,
   "metadata": {},
   "outputs": [
    {
     "data": {
      "text/plain": [
       "<matplotlib.text.Text at 0x1a370bd6470>"
      ]
     },
     "execution_count": 6,
     "metadata": {},
     "output_type": "execute_result"
    },
    {
     "data": {
      "image/png": "[encoded data removed]",
      "text/plain": [
       "<matplotlib.figure.Figure at 0x1a370797748>"
      ]
     },
     "metadata": {},
     "output_type": "display_data"
    }
   ],
   "source": [
    "computers_df = df['computer'].value_counts().reset_index() \n",
    "columns = ['computer','count']\n",
    "computers_df.columns=columns\n",
    "plt.hist(computers_df['count'].apply(np.log))\n",
    "plt.title('Computer Event Frequency')\n",
    "plt.ylabel('Computer Events')\n",
    "plt.xlabel('Number of Computers')"
   ]
  },
  {
   "cell_type": "markdown",
   "metadata": {},
   "source": [
    "### Processes\n",
    "Processes represent individual executables, programs, or applications running on a computer."
   ]
  },
  {
   "cell_type": "code",
   "execution_count": 7,
   "metadata": {},
   "outputs": [
    {
     "name": "stdout",
     "output_type": "stream",
     "text": [
      "Total Number of Unique Processes:  311\n",
      "Process that was seen most frequently:  P16\n",
      "The most frequently seen process was seen this many times:  10299\n"
     ]
    }
   ],
   "source": [
    "print(\"Total Number of Unique Processes: \", df['process_name'].nunique())\n",
    "print(\"Process that was seen most frequently: \", df['process_name'].mode()[0])\n",
    "print(\"The most frequently seen process was seen this many times: \", df['process_name'].value_counts().max())\n",
    "# add in the percentage of this process"
   ]
  },
  {
   "cell_type": "markdown",
   "metadata": {},
   "source": [
    "The describe method from pandas gives us some interesting information about the data. Most of the computers have less than 32 processes running on them for the given time period. The most unique processes were only seen once during the time period. "
   ]
  },
  {
   "cell_type": "code",
   "execution_count": 8,
   "metadata": {},
   "outputs": [
    {
     "data": {
      "text/plain": [
       "count      311.000000\n",
       "mean       160.771704\n",
       "std        763.610838\n",
       "min          1.000000\n",
       "50%          6.000000\n",
       "max      10299.000000\n",
       "Name: process_name, dtype: float64"
      ]
     },
     "execution_count": 8,
     "metadata": {},
     "output_type": "execute_result"
    }
   ],
   "source": [
    "process_df = df['process_name'].value_counts()\n",
    "process_df.describe([])"
   ]
  },
  {
   "cell_type": "markdown",
   "metadata": {},
   "source": [
    "##### Visualization of Process Frequency "
   ]
  },
  {
   "cell_type": "code",
   "execution_count": 9,
   "metadata": {},
   "outputs": [
    {
     "data": {
      "text/plain": [
       "(array([ 296.,   12.,    1.,    0.,    0.,    0.,    1.,    0.,    0.,    1.]),\n",
       " array([  1.00000000e+00,   1.03080000e+03,   2.06060000e+03,\n",
       "          3.09040000e+03,   4.12020000e+03,   5.15000000e+03,\n",
       "          6.17980000e+03,   7.20960000e+03,   8.23940000e+03,\n",
       "          9.26920000e+03,   1.02990000e+04]),\n",
       " <a list of 10 Patch objects>)"
      ]
     },
     "execution_count": 9,
     "metadata": {},
     "output_type": "execute_result"
    },
    {
     "data": {
      "image/png": "[encoded data removed]",
      "text/plain": [
       "<matplotlib.figure.Figure at 0x1a370c114a8>"
      ]
     },
     "metadata": {},
     "output_type": "display_data"
    }
   ],
   "source": [
    "process_df = df['process_name'].value_counts().reset_index() \n",
    "columns = ['process_name','count']\n",
    "process_df.columns=columns\n",
    "plt.title('Process Frequency')\n",
    "plt.ylabel('Frequency of Process Events')\n",
    "plt.xlabel('Number of Processes')\n",
    "plt.hist(process_df['count'])"
   ]
  },
  {
   "cell_type": "markdown",
   "metadata": {},
   "source": [
    "##### Visualization of Process Frequency part 2\n",
    "Again, you can see that the data is highly skewed.  Again, using the logscale helps to visualize this data in a better fashion, removing outliers."
   ]
  },
  {
   "cell_type": "code",
   "execution_count": 10,
   "metadata": {},
   "outputs": [
    {
     "data": {
      "text/plain": [
       "(array([ 93.,  68.,  43.,  37.,  21.,  21.,   7.,  16.,   3.,   2.]),\n",
       " array([ 0.        ,  0.92398021,  1.84796042,  2.77194062,  3.69592083,\n",
       "         4.61990104,  5.54388125,  6.46786146,  7.39184167,  8.31582187,\n",
       "         9.23980208]),\n",
       " <a list of 10 Patch objects>)"
      ]
     },
     "execution_count": 10,
     "metadata": {},
     "output_type": "execute_result"
    },
    {
     "data": {
      "image/png": "[encoded data removed]",
      "text/plain": [
       "<matplotlib.figure.Figure at 0x1a370d55ac8>"
      ]
     },
     "metadata": {},
     "output_type": "display_data"
    }
   ],
   "source": [
    "process_df = df['process_name'].value_counts().reset_index() \n",
    "columns = ['process_name','count']\n",
    "process_df.columns=columns\n",
    "plt.title('Process Frequency')\n",
    "plt.ylabel('Frequency of Process Events')\n",
    "plt.xlabel('Number of Processes')\n",
    "plt.hist(process_df['count'].apply(np.log))"
   ]
  },
  {
   "cell_type": "markdown",
   "metadata": {},
   "source": [
    "#### Time\n",
    "Time is represented in seconds starting from 1 used to de-identify the data."
   ]
  },
  {
   "cell_type": "code",
   "execution_count": 11,
   "metadata": {},
   "outputs": [
    {
     "name": "stdout",
     "output_type": "stream",
     "text": [
      "Latest Time seen in data:  1384\n",
      "Earlieset Time seen in data:  1\n"
     ]
    }
   ],
   "source": [
    "print(\"Latest Time seen in data: \", df['time'].max())\n",
    "print(\"Earlieset Time seen in data: \", df['time'].min())"
   ]
  },
  {
   "cell_type": "markdown",
   "metadata": {},
   "source": [
    "#### Start/Stop Events\n",
    "This data represents whether or not the process was started or whether the process was stopped."
   ]
  },
  {
   "cell_type": "code",
   "execution_count": 12,
   "metadata": {},
   "outputs": [
    {
     "name": "stdout",
     "output_type": "stream",
     "text": [
      "Total number of start and stop events: \n"
     ]
    },
    {
     "data": {
      "text/plain": [
       "Start    35630\n",
       "End      14370\n",
       "Name: start_or_stop, dtype: int64"
      ]
     },
     "execution_count": 12,
     "metadata": {},
     "output_type": "execute_result"
    }
   ],
   "source": [
    "print(\"Total number of start and stop events: \")\n",
    "df['start_or_stop'].value_counts()"
   ]
  },
  {
   "cell_type": "markdown",
   "metadata": {},
   "source": [
    "#### Data Analysis\n",
    "The following computes the average number of computers per user.  Because users can log in and use multiple computers, it is useful to identify what the average number of computers per user is in this data set."
   ]
  },
  {
   "cell_type": "code",
   "execution_count": 13,
   "metadata": {},
   "outputs": [
    {
     "name": "stdout",
     "output_type": "stream",
     "text": [
      "Average number of computers per user: \n",
      "1.016622340425532\n"
     ]
    }
   ],
   "source": [
    "avg_u = df.groupby(['username'])['computer'].nunique()\n",
    "print(\"Average number of computers per user: \")\n",
    "avg_u_mean = avg_u.mean()\n",
    "print(avg_u_mean)"
   ]
  },
  {
   "cell_type": "markdown",
   "metadata": {},
   "source": [
    "The following computes the maximum number of computers used by a user.  This is useful to identify, particularly in cyber security as if the maximum number of computers used by a user is closer to the total number of computers in the envirtonment, this could possibly indicate a brute force attack."
   ]
  },
  {
   "cell_type": "code",
   "execution_count": 14,
   "metadata": {},
   "outputs": [
    {
     "name": "stdout",
     "output_type": "stream",
     "text": [
      "Maximum number of computers used by a user\n",
      "9\n"
     ]
    }
   ],
   "source": [
    "print(\"Maximum number of computers used by a user\")\n",
    "avg_u_max = avg_u.max()\n",
    "print(avg_u_max)"
   ]
  },
  {
   "cell_type": "markdown",
   "metadata": {},
   "source": [
    "I'm still working from here down............................................................................'"
   ]
  },
  {
   "cell_type": "code",
   "execution_count": 15,
   "metadata": {},
   "outputs": [
    {
     "data": {
      "text/plain": [
       "username     computer  process_name\n",
       "C1$@DOM1     C1        P16              9\n",
       "C10$@DOM1    C10       P47              4\n",
       "                       P9               4\n",
       "                       P25              2\n",
       "C100$@DOM1   C100      P16              5\n",
       "                       P13              2\n",
       "                       P14              2\n",
       "                       P1               1\n",
       "                       P10              1\n",
       "                       P25              1\n",
       "                       P3               1\n",
       "                       P4               1\n",
       "                       P5               1\n",
       "                       P8               1\n",
       "                       P96              1\n",
       "C1000$@DOM1  C1000     P16              4\n",
       "                       P1               1\n",
       "                       P10              1\n",
       "                       P3               1\n",
       "                       P4               1\n",
       "C1001$@DOM1  C1001     P16              5\n",
       "                       P1               1\n",
       "                       P10              1\n",
       "                       P13              1\n",
       "                       P14              1\n",
       "                       P3               1\n",
       "                       P4               1\n",
       "C1002$@DOM1  C1002     P16              4\n",
       "                       P1               1\n",
       "                       P10              1\n",
       "                                       ..\n",
       "U84@DOM1     C1751     P53              5\n",
       "                       P80              5\n",
       "U89@DOM1     C580      P53              5\n",
       "                       P80              5\n",
       "U90@DOM1     C1785     P79             12\n",
       "                       P21              6\n",
       "             C1786     P79             12\n",
       "                       P21              6\n",
       "U91@DOM1     C1787     P54              5\n",
       "U92@DOM1     C730      P53             10\n",
       "                       P80             10\n",
       "U95@DOM1     C2055     P105            32\n",
       "                       P294             4\n",
       "             C2221     P198            48\n",
       "                       P194             8\n",
       "                       P197             8\n",
       "                       P206             7\n",
       "             C2766     P105             8\n",
       "                       P294             8\n",
       "U96@DOM1     C542      P23              2\n",
       "                       P24              2\n",
       "                       P102             1\n",
       "                       P1181            1\n",
       "U97@DOM1     C1825     P23              2\n",
       "                       P24              2\n",
       "                       P102             1\n",
       "                       P1181            1\n",
       "U98@DOM1     C1177     P53              5\n",
       "                       P80              5\n",
       "                       P88              5\n",
       "Name: process_name, Length: 15144, dtype: int64"
      ]
     },
     "execution_count": 15,
     "metadata": {},
     "output_type": "execute_result"
    }
   ],
   "source": [
    "avg_p = df.groupby(['username','computer'])['process_name'].value_counts()\n",
    "avg_p"
   ]
  },
  {
   "cell_type": "code",
   "execution_count": 16,
   "metadata": {},
   "outputs": [
    {
     "data": {
      "text/html": [
       "<div>\n",
       "<style>\n",
       "    .dataframe thead tr:only-child th {\n",
       "        text-align: right;\n",
       "    }\n",
       "\n",
       "    .dataframe thead th {\n",
       "        text-align: left;\n",
       "    }\n",
       "\n",
       "    .dataframe tbody tr th {\n",
       "        vertical-align: top;\n",
       "    }\n",
       "</style>\n",
       "<table border=\"1\" class=\"dataframe\">\n",
       "  <thead>\n",
       "    <tr style=\"text-align: right;\">\n",
       "      <th></th>\n",
       "      <th>username</th>\n",
       "      <th>computer</th>\n",
       "      <th>process_name</th>\n",
       "      <th>process_counts</th>\n",
       "    </tr>\n",
       "  </thead>\n",
       "  <tbody>\n",
       "    <tr>\n",
       "      <th>0</th>\n",
       "      <td>C1$@DOM1</td>\n",
       "      <td>C1</td>\n",
       "      <td>P16</td>\n",
       "      <td>9</td>\n",
       "    </tr>\n",
       "    <tr>\n",
       "      <th>1</th>\n",
       "      <td>C10$@DOM1</td>\n",
       "      <td>C10</td>\n",
       "      <td>P25</td>\n",
       "      <td>2</td>\n",
       "    </tr>\n",
       "    <tr>\n",
       "      <th>2</th>\n",
       "      <td>C10$@DOM1</td>\n",
       "      <td>C10</td>\n",
       "      <td>P47</td>\n",
       "      <td>4</td>\n",
       "    </tr>\n",
       "    <tr>\n",
       "      <th>3</th>\n",
       "      <td>C10$@DOM1</td>\n",
       "      <td>C10</td>\n",
       "      <td>P9</td>\n",
       "      <td>4</td>\n",
       "    </tr>\n",
       "    <tr>\n",
       "      <th>4</th>\n",
       "      <td>C100$@DOM1</td>\n",
       "      <td>C100</td>\n",
       "      <td>P1</td>\n",
       "      <td>1</td>\n",
       "    </tr>\n",
       "  </tbody>\n",
       "</table>\n",
       "</div>"
      ],
      "text/plain": [
       "     username computer process_name  process_counts\n",
       "0    C1$@DOM1       C1          P16               9\n",
       "1   C10$@DOM1      C10          P25               2\n",
       "2   C10$@DOM1      C10          P47               4\n",
       "3   C10$@DOM1      C10           P9               4\n",
       "4  C100$@DOM1     C100           P1               1"
      ]
     },
     "execution_count": 16,
     "metadata": {},
     "output_type": "execute_result"
    }
   ],
   "source": [
    "df_grouped = df.groupby(['username','computer','process_name'])['username'].count().to_frame()\n",
    "df_grouped.columns = ['process_counts']\n",
    "df_grouped\n",
    "df_grouped2 = df_grouped.reset_index()\n",
    "df_grouped2.head()"
   ]
  },
  {
   "cell_type": "code",
   "execution_count": 17,
   "metadata": {
    "collapsed": true
   },
   "outputs": [],
   "source": [
    "#sns.boxplot(x = 'username', y = 'process_counts', hue='process_name', data=df_grouped2)"
   ]
  },
  {
   "cell_type": "code",
   "execution_count": 18,
   "metadata": {},
   "outputs": [
    {
     "data": {
      "text/html": [
       "<div>\n",
       "<style>\n",
       "    .dataframe thead tr:only-child th {\n",
       "        text-align: right;\n",
       "    }\n",
       "\n",
       "    .dataframe thead th {\n",
       "        text-align: left;\n",
       "    }\n",
       "\n",
       "    .dataframe tbody tr th {\n",
       "        vertical-align: top;\n",
       "    }\n",
       "</style>\n",
       "<table border=\"1\" class=\"dataframe\">\n",
       "  <thead>\n",
       "    <tr style=\"text-align: right;\">\n",
       "      <th></th>\n",
       "      <th>computer</th>\n",
       "      <th>process_name</th>\n",
       "      <th>process_counts</th>\n",
       "    </tr>\n",
       "    <tr>\n",
       "      <th>username</th>\n",
       "      <th></th>\n",
       "      <th></th>\n",
       "      <th></th>\n",
       "    </tr>\n",
       "  </thead>\n",
       "  <tbody>\n",
       "    <tr>\n",
       "      <th>C1$@DOM1</th>\n",
       "      <td>C1</td>\n",
       "      <td>P16</td>\n",
       "      <td>9</td>\n",
       "    </tr>\n",
       "    <tr>\n",
       "      <th>C10$@DOM1</th>\n",
       "      <td>C10</td>\n",
       "      <td>P25</td>\n",
       "      <td>2</td>\n",
       "    </tr>\n",
       "    <tr>\n",
       "      <th>C10$@DOM1</th>\n",
       "      <td>C10</td>\n",
       "      <td>P47</td>\n",
       "      <td>4</td>\n",
       "    </tr>\n",
       "    <tr>\n",
       "      <th>C10$@DOM1</th>\n",
       "      <td>C10</td>\n",
       "      <td>P9</td>\n",
       "      <td>4</td>\n",
       "    </tr>\n",
       "    <tr>\n",
       "      <th>C100$@DOM1</th>\n",
       "      <td>C100</td>\n",
       "      <td>P1</td>\n",
       "      <td>1</td>\n",
       "    </tr>\n",
       "    <tr>\n",
       "      <th>C100$@DOM1</th>\n",
       "      <td>C100</td>\n",
       "      <td>P10</td>\n",
       "      <td>1</td>\n",
       "    </tr>\n",
       "    <tr>\n",
       "      <th>C100$@DOM1</th>\n",
       "      <td>C100</td>\n",
       "      <td>P13</td>\n",
       "      <td>2</td>\n",
       "    </tr>\n",
       "    <tr>\n",
       "      <th>C100$@DOM1</th>\n",
       "      <td>C100</td>\n",
       "      <td>P14</td>\n",
       "      <td>2</td>\n",
       "    </tr>\n",
       "    <tr>\n",
       "      <th>C100$@DOM1</th>\n",
       "      <td>C100</td>\n",
       "      <td>P16</td>\n",
       "      <td>5</td>\n",
       "    </tr>\n",
       "    <tr>\n",
       "      <th>C100$@DOM1</th>\n",
       "      <td>C100</td>\n",
       "      <td>P25</td>\n",
       "      <td>1</td>\n",
       "    </tr>\n",
       "    <tr>\n",
       "      <th>C100$@DOM1</th>\n",
       "      <td>C100</td>\n",
       "      <td>P3</td>\n",
       "      <td>1</td>\n",
       "    </tr>\n",
       "    <tr>\n",
       "      <th>C100$@DOM1</th>\n",
       "      <td>C100</td>\n",
       "      <td>P4</td>\n",
       "      <td>1</td>\n",
       "    </tr>\n",
       "    <tr>\n",
       "      <th>C100$@DOM1</th>\n",
       "      <td>C100</td>\n",
       "      <td>P5</td>\n",
       "      <td>1</td>\n",
       "    </tr>\n",
       "    <tr>\n",
       "      <th>C100$@DOM1</th>\n",
       "      <td>C100</td>\n",
       "      <td>P8</td>\n",
       "      <td>1</td>\n",
       "    </tr>\n",
       "    <tr>\n",
       "      <th>C100$@DOM1</th>\n",
       "      <td>C100</td>\n",
       "      <td>P96</td>\n",
       "      <td>1</td>\n",
       "    </tr>\n",
       "    <tr>\n",
       "      <th>C1000$@DOM1</th>\n",
       "      <td>C1000</td>\n",
       "      <td>P1</td>\n",
       "      <td>1</td>\n",
       "    </tr>\n",
       "    <tr>\n",
       "      <th>C1000$@DOM1</th>\n",
       "      <td>C1000</td>\n",
       "      <td>P10</td>\n",
       "      <td>1</td>\n",
       "    </tr>\n",
       "    <tr>\n",
       "      <th>C1000$@DOM1</th>\n",
       "      <td>C1000</td>\n",
       "      <td>P16</td>\n",
       "      <td>4</td>\n",
       "    </tr>\n",
       "    <tr>\n",
       "      <th>C1000$@DOM1</th>\n",
       "      <td>C1000</td>\n",
       "      <td>P3</td>\n",
       "      <td>1</td>\n",
       "    </tr>\n",
       "    <tr>\n",
       "      <th>C1000$@DOM1</th>\n",
       "      <td>C1000</td>\n",
       "      <td>P4</td>\n",
       "      <td>1</td>\n",
       "    </tr>\n",
       "    <tr>\n",
       "      <th>C1001$@DOM1</th>\n",
       "      <td>C1001</td>\n",
       "      <td>P1</td>\n",
       "      <td>1</td>\n",
       "    </tr>\n",
       "    <tr>\n",
       "      <th>C1001$@DOM1</th>\n",
       "      <td>C1001</td>\n",
       "      <td>P10</td>\n",
       "      <td>1</td>\n",
       "    </tr>\n",
       "    <tr>\n",
       "      <th>C1001$@DOM1</th>\n",
       "      <td>C1001</td>\n",
       "      <td>P13</td>\n",
       "      <td>1</td>\n",
       "    </tr>\n",
       "    <tr>\n",
       "      <th>C1001$@DOM1</th>\n",
       "      <td>C1001</td>\n",
       "      <td>P14</td>\n",
       "      <td>1</td>\n",
       "    </tr>\n",
       "    <tr>\n",
       "      <th>C1001$@DOM1</th>\n",
       "      <td>C1001</td>\n",
       "      <td>P16</td>\n",
       "      <td>5</td>\n",
       "    </tr>\n",
       "    <tr>\n",
       "      <th>C1001$@DOM1</th>\n",
       "      <td>C1001</td>\n",
       "      <td>P3</td>\n",
       "      <td>1</td>\n",
       "    </tr>\n",
       "    <tr>\n",
       "      <th>C1001$@DOM1</th>\n",
       "      <td>C1001</td>\n",
       "      <td>P4</td>\n",
       "      <td>1</td>\n",
       "    </tr>\n",
       "    <tr>\n",
       "      <th>C1002$@DOM1</th>\n",
       "      <td>C1002</td>\n",
       "      <td>P1</td>\n",
       "      <td>1</td>\n",
       "    </tr>\n",
       "    <tr>\n",
       "      <th>C1002$@DOM1</th>\n",
       "      <td>C1002</td>\n",
       "      <td>P10</td>\n",
       "      <td>1</td>\n",
       "    </tr>\n",
       "    <tr>\n",
       "      <th>C1002$@DOM1</th>\n",
       "      <td>C1002</td>\n",
       "      <td>P16</td>\n",
       "      <td>4</td>\n",
       "    </tr>\n",
       "    <tr>\n",
       "      <th>...</th>\n",
       "      <td>...</td>\n",
       "      <td>...</td>\n",
       "      <td>...</td>\n",
       "    </tr>\n",
       "    <tr>\n",
       "      <th>U84@DOM1</th>\n",
       "      <td>C1751</td>\n",
       "      <td>P53</td>\n",
       "      <td>5</td>\n",
       "    </tr>\n",
       "    <tr>\n",
       "      <th>U84@DOM1</th>\n",
       "      <td>C1751</td>\n",
       "      <td>P80</td>\n",
       "      <td>5</td>\n",
       "    </tr>\n",
       "    <tr>\n",
       "      <th>U89@DOM1</th>\n",
       "      <td>C580</td>\n",
       "      <td>P53</td>\n",
       "      <td>5</td>\n",
       "    </tr>\n",
       "    <tr>\n",
       "      <th>U89@DOM1</th>\n",
       "      <td>C580</td>\n",
       "      <td>P80</td>\n",
       "      <td>5</td>\n",
       "    </tr>\n",
       "    <tr>\n",
       "      <th>U90@DOM1</th>\n",
       "      <td>C1785</td>\n",
       "      <td>P21</td>\n",
       "      <td>6</td>\n",
       "    </tr>\n",
       "    <tr>\n",
       "      <th>U90@DOM1</th>\n",
       "      <td>C1785</td>\n",
       "      <td>P79</td>\n",
       "      <td>12</td>\n",
       "    </tr>\n",
       "    <tr>\n",
       "      <th>U90@DOM1</th>\n",
       "      <td>C1786</td>\n",
       "      <td>P21</td>\n",
       "      <td>6</td>\n",
       "    </tr>\n",
       "    <tr>\n",
       "      <th>U90@DOM1</th>\n",
       "      <td>C1786</td>\n",
       "      <td>P79</td>\n",
       "      <td>12</td>\n",
       "    </tr>\n",
       "    <tr>\n",
       "      <th>U91@DOM1</th>\n",
       "      <td>C1787</td>\n",
       "      <td>P54</td>\n",
       "      <td>5</td>\n",
       "    </tr>\n",
       "    <tr>\n",
       "      <th>U92@DOM1</th>\n",
       "      <td>C730</td>\n",
       "      <td>P53</td>\n",
       "      <td>10</td>\n",
       "    </tr>\n",
       "    <tr>\n",
       "      <th>U92@DOM1</th>\n",
       "      <td>C730</td>\n",
       "      <td>P80</td>\n",
       "      <td>10</td>\n",
       "    </tr>\n",
       "    <tr>\n",
       "      <th>U95@DOM1</th>\n",
       "      <td>C2055</td>\n",
       "      <td>P105</td>\n",
       "      <td>32</td>\n",
       "    </tr>\n",
       "    <tr>\n",
       "      <th>U95@DOM1</th>\n",
       "      <td>C2055</td>\n",
       "      <td>P294</td>\n",
       "      <td>4</td>\n",
       "    </tr>\n",
       "    <tr>\n",
       "      <th>U95@DOM1</th>\n",
       "      <td>C2221</td>\n",
       "      <td>P194</td>\n",
       "      <td>8</td>\n",
       "    </tr>\n",
       "    <tr>\n",
       "      <th>U95@DOM1</th>\n",
       "      <td>C2221</td>\n",
       "      <td>P197</td>\n",
       "      <td>8</td>\n",
       "    </tr>\n",
       "    <tr>\n",
       "      <th>U95@DOM1</th>\n",
       "      <td>C2221</td>\n",
       "      <td>P198</td>\n",
       "      <td>48</td>\n",
       "    </tr>\n",
       "    <tr>\n",
       "      <th>U95@DOM1</th>\n",
       "      <td>C2221</td>\n",
       "      <td>P206</td>\n",
       "      <td>7</td>\n",
       "    </tr>\n",
       "    <tr>\n",
       "      <th>U95@DOM1</th>\n",
       "      <td>C2766</td>\n",
       "      <td>P105</td>\n",
       "      <td>8</td>\n",
       "    </tr>\n",
       "    <tr>\n",
       "      <th>U95@DOM1</th>\n",
       "      <td>C2766</td>\n",
       "      <td>P294</td>\n",
       "      <td>8</td>\n",
       "    </tr>\n",
       "    <tr>\n",
       "      <th>U96@DOM1</th>\n",
       "      <td>C542</td>\n",
       "      <td>P102</td>\n",
       "      <td>1</td>\n",
       "    </tr>\n",
       "    <tr>\n",
       "      <th>U96@DOM1</th>\n",
       "      <td>C542</td>\n",
       "      <td>P1181</td>\n",
       "      <td>1</td>\n",
       "    </tr>\n",
       "    <tr>\n",
       "      <th>U96@DOM1</th>\n",
       "      <td>C542</td>\n",
       "      <td>P23</td>\n",
       "      <td>2</td>\n",
       "    </tr>\n",
       "    <tr>\n",
       "      <th>U96@DOM1</th>\n",
       "      <td>C542</td>\n",
       "      <td>P24</td>\n",
       "      <td>2</td>\n",
       "    </tr>\n",
       "    <tr>\n",
       "      <th>U97@DOM1</th>\n",
       "      <td>C1825</td>\n",
       "      <td>P102</td>\n",
       "      <td>1</td>\n",
       "    </tr>\n",
       "    <tr>\n",
       "      <th>U97@DOM1</th>\n",
       "      <td>C1825</td>\n",
       "      <td>P1181</td>\n",
       "      <td>1</td>\n",
       "    </tr>\n",
       "    <tr>\n",
       "      <th>U97@DOM1</th>\n",
       "      <td>C1825</td>\n",
       "      <td>P23</td>\n",
       "      <td>2</td>\n",
       "    </tr>\n",
       "    <tr>\n",
       "      <th>U97@DOM1</th>\n",
       "      <td>C1825</td>\n",
       "      <td>P24</td>\n",
       "      <td>2</td>\n",
       "    </tr>\n",
       "    <tr>\n",
       "      <th>U98@DOM1</th>\n",
       "      <td>C1177</td>\n",
       "      <td>P53</td>\n",
       "      <td>5</td>\n",
       "    </tr>\n",
       "    <tr>\n",
       "      <th>U98@DOM1</th>\n",
       "      <td>C1177</td>\n",
       "      <td>P80</td>\n",
       "      <td>5</td>\n",
       "    </tr>\n",
       "    <tr>\n",
       "      <th>U98@DOM1</th>\n",
       "      <td>C1177</td>\n",
       "      <td>P88</td>\n",
       "      <td>5</td>\n",
       "    </tr>\n",
       "  </tbody>\n",
       "</table>\n",
       "<p>15144 rows × 3 columns</p>\n",
       "</div>"
      ],
      "text/plain": [
       "            computer process_name  process_counts\n",
       "username                                         \n",
       "C1$@DOM1          C1          P16               9\n",
       "C10$@DOM1        C10          P25               2\n",
       "C10$@DOM1        C10          P47               4\n",
       "C10$@DOM1        C10           P9               4\n",
       "C100$@DOM1      C100           P1               1\n",
       "C100$@DOM1      C100          P10               1\n",
       "C100$@DOM1      C100          P13               2\n",
       "C100$@DOM1      C100          P14               2\n",
       "C100$@DOM1      C100          P16               5\n",
       "C100$@DOM1      C100          P25               1\n",
       "C100$@DOM1      C100           P3               1\n",
       "C100$@DOM1      C100           P4               1\n",
       "C100$@DOM1      C100           P5               1\n",
       "C100$@DOM1      C100           P8               1\n",
       "C100$@DOM1      C100          P96               1\n",
       "C1000$@DOM1    C1000           P1               1\n",
       "C1000$@DOM1    C1000          P10               1\n",
       "C1000$@DOM1    C1000          P16               4\n",
       "C1000$@DOM1    C1000           P3               1\n",
       "C1000$@DOM1    C1000           P4               1\n",
       "C1001$@DOM1    C1001           P1               1\n",
       "C1001$@DOM1    C1001          P10               1\n",
       "C1001$@DOM1    C1001          P13               1\n",
       "C1001$@DOM1    C1001          P14               1\n",
       "C1001$@DOM1    C1001          P16               5\n",
       "C1001$@DOM1    C1001           P3               1\n",
       "C1001$@DOM1    C1001           P4               1\n",
       "C1002$@DOM1    C1002           P1               1\n",
       "C1002$@DOM1    C1002          P10               1\n",
       "C1002$@DOM1    C1002          P16               4\n",
       "...              ...          ...             ...\n",
       "U84@DOM1       C1751          P53               5\n",
       "U84@DOM1       C1751          P80               5\n",
       "U89@DOM1        C580          P53               5\n",
       "U89@DOM1        C580          P80               5\n",
       "U90@DOM1       C1785          P21               6\n",
       "U90@DOM1       C1785          P79              12\n",
       "U90@DOM1       C1786          P21               6\n",
       "U90@DOM1       C1786          P79              12\n",
       "U91@DOM1       C1787          P54               5\n",
       "U92@DOM1        C730          P53              10\n",
       "U92@DOM1        C730          P80              10\n",
       "U95@DOM1       C2055         P105              32\n",
       "U95@DOM1       C2055         P294               4\n",
       "U95@DOM1       C2221         P194               8\n",
       "U95@DOM1       C2221         P197               8\n",
       "U95@DOM1       C2221         P198              48\n",
       "U95@DOM1       C2221         P206               7\n",
       "U95@DOM1       C2766         P105               8\n",
       "U95@DOM1       C2766         P294               8\n",
       "U96@DOM1        C542         P102               1\n",
       "U96@DOM1        C542        P1181               1\n",
       "U96@DOM1        C542          P23               2\n",
       "U96@DOM1        C542          P24               2\n",
       "U97@DOM1       C1825         P102               1\n",
       "U97@DOM1       C1825        P1181               1\n",
       "U97@DOM1       C1825          P23               2\n",
       "U97@DOM1       C1825          P24               2\n",
       "U98@DOM1       C1177          P53               5\n",
       "U98@DOM1       C1177          P80               5\n",
       "U98@DOM1       C1177          P88               5\n",
       "\n",
       "[15144 rows x 3 columns]"
      ]
     },
     "execution_count": 18,
     "metadata": {},
     "output_type": "execute_result"
    }
   ],
   "source": [
    "df_byuser = df_grouped2.set_index(['username'])\n",
    "df_byuser"
   ]
  },
  {
   "cell_type": "code",
   "execution_count": 19,
   "metadata": {},
   "outputs": [
    {
     "data": {
      "text/plain": [
       "username\n",
       "LOCAL SERVICE@C394          1\n",
       "LOCAL SERVICE@C3495         1\n",
       "C2377$@DOM1                 1\n",
       "LOCAL SERVICE@C162          1\n",
       "U354@DOM1                   1\n",
       "U165@DOM1                   1\n",
       "LOCAL SERVICE@C1590         1\n",
       "NETWORK SERVICE@C3241       1\n",
       "LOCAL SERVICE@C1577         1\n",
       "NETWORK SERVICE@C3147       1\n",
       "LOCAL SERVICE@C3532         1\n",
       "NETWORK SERVICE@C3116       1\n",
       "NETWORK SERVICE@C1261       1\n",
       "U173@DOM1                   1\n",
       "U504@DOM1                   1\n",
       "NETWORK SERVICE@C3149       1\n",
       "C3900$@DOM1                 1\n",
       "NETWORK SERVICE@C3276       1\n",
       "LOCAL SERVICE@C1641         1\n",
       "NETWORK SERVICE@C3602       1\n",
       "NETWORK SERVICE@C3570       1\n",
       "NETWORK SERVICE@C3547       1\n",
       "C1816$@DOM1                 1\n",
       "LOCAL SERVICE@C3333         1\n",
       "LOCAL SERVICE@C722          1\n",
       "NETWORK SERVICE@C1153       1\n",
       "LOCAL SERVICE@C717          1\n",
       "U151@DOM1                   1\n",
       "LOCAL SERVICE@C999          1\n",
       "NETWORK SERVICE@C3386       1\n",
       "                         ... \n",
       "C1723$@DOM1               192\n",
       "LOCAL SERVICE@C1567       192\n",
       "LOCAL SERVICE@C2039       195\n",
       "LOCAL SERVICE@C2057       196\n",
       "LOCAL SERVICE@C1961       197\n",
       "LOCAL SERVICE@C1993       203\n",
       "LOCAL SERVICE@C1382       206\n",
       "LOCAL SERVICE@C1042       207\n",
       "LOCAL SERVICE@C742        207\n",
       "LOCAL SERVICE@C1576       207\n",
       "LOCAL SERVICE@C1319       207\n",
       "U67@C1723                 230\n",
       "C1883$@DOM1               234\n",
       "C1570$@DOM1               239\n",
       "C988$@DOM1                250\n",
       "C553$@DOM1                251\n",
       "C1085$@DOM1               256\n",
       "C101$@DOM1                260\n",
       "C621$@DOM1                286\n",
       "C523$@DOM1                316\n",
       "C2046$@DOM1               375\n",
       "C765$@DOM1                392\n",
       "C2148$@DOM1               424\n",
       "C1893$@DOM1               474\n",
       "C1432$@DOM1               475\n",
       "C1707$@DOM1               561\n",
       "C492$@DOM1                624\n",
       "C236$@DOM1                744\n",
       "C1624$@DOM1               931\n",
       "C1685$@DOM1              1637\n",
       "Name: process_counts, Length: 3008, dtype: int64"
      ]
     },
     "execution_count": 19,
     "metadata": {},
     "output_type": "execute_result"
    }
   ],
   "source": [
    "df_byuser.groupby(level=0)['process_counts'].sum().sort_values()\n"
   ]
  },
  {
   "cell_type": "code",
   "execution_count": 20,
   "metadata": {},
   "outputs": [
    {
     "data": {
      "text/html": [
       "<div>\n",
       "<style>\n",
       "    .dataframe thead tr:only-child th {\n",
       "        text-align: right;\n",
       "    }\n",
       "\n",
       "    .dataframe thead th {\n",
       "        text-align: left;\n",
       "    }\n",
       "\n",
       "    .dataframe tbody tr th {\n",
       "        vertical-align: top;\n",
       "    }\n",
       "</style>\n",
       "<table border=\"1\" class=\"dataframe\">\n",
       "  <thead>\n",
       "    <tr style=\"text-align: right;\">\n",
       "      <th></th>\n",
       "      <th>computer</th>\n",
       "      <th>process_name</th>\n",
       "      <th>process_counts</th>\n",
       "    </tr>\n",
       "    <tr>\n",
       "      <th>username</th>\n",
       "      <th></th>\n",
       "      <th></th>\n",
       "      <th></th>\n",
       "    </tr>\n",
       "  </thead>\n",
       "  <tbody>\n",
       "    <tr>\n",
       "      <th>C1183$@DOM1</th>\n",
       "      <td>C1183</td>\n",
       "      <td>P133</td>\n",
       "      <td>2</td>\n",
       "    </tr>\n",
       "    <tr>\n",
       "      <th>C1183$@DOM1</th>\n",
       "      <td>C1183</td>\n",
       "      <td>P144</td>\n",
       "      <td>2</td>\n",
       "    </tr>\n",
       "    <tr>\n",
       "      <th>C1183$@DOM1</th>\n",
       "      <td>C1183</td>\n",
       "      <td>P16</td>\n",
       "      <td>10</td>\n",
       "    </tr>\n",
       "    <tr>\n",
       "      <th>C1183$@DOM1</th>\n",
       "      <td>C1183</td>\n",
       "      <td>P25</td>\n",
       "      <td>2</td>\n",
       "    </tr>\n",
       "    <tr>\n",
       "      <th>C1183$@DOM1</th>\n",
       "      <td>C1183</td>\n",
       "      <td>P271</td>\n",
       "      <td>2</td>\n",
       "    </tr>\n",
       "    <tr>\n",
       "      <th>C1183$@DOM1</th>\n",
       "      <td>C1183</td>\n",
       "      <td>P272</td>\n",
       "      <td>2</td>\n",
       "    </tr>\n",
       "    <tr>\n",
       "      <th>C1183$@DOM1</th>\n",
       "      <td>C1183</td>\n",
       "      <td>P5</td>\n",
       "      <td>4</td>\n",
       "    </tr>\n",
       "    <tr>\n",
       "      <th>C1183$@DOM1</th>\n",
       "      <td>C1183</td>\n",
       "      <td>P8</td>\n",
       "      <td>2</td>\n",
       "    </tr>\n",
       "  </tbody>\n",
       "</table>\n",
       "</div>"
      ],
      "text/plain": [
       "            computer process_name  process_counts\n",
       "username                                         \n",
       "C1183$@DOM1    C1183         P133               2\n",
       "C1183$@DOM1    C1183         P144               2\n",
       "C1183$@DOM1    C1183          P16              10\n",
       "C1183$@DOM1    C1183          P25               2\n",
       "C1183$@DOM1    C1183         P271               2\n",
       "C1183$@DOM1    C1183         P272               2\n",
       "C1183$@DOM1    C1183           P5               4\n",
       "C1183$@DOM1    C1183           P8               2"
      ]
     },
     "execution_count": 20,
     "metadata": {},
     "output_type": "execute_result"
    }
   ],
   "source": [
    "df_byuser.loc['C1183$@DOM1']"
   ]
  },
  {
   "cell_type": "code",
   "execution_count": 21,
   "metadata": {},
   "outputs": [
    {
     "data": {
      "text/plain": [
       "<matplotlib.axes._subplots.AxesSubplot at 0x1a370db8fd0>"
      ]
     },
     "execution_count": 21,
     "metadata": {},
     "output_type": "execute_result"
    },
    {
     "data": {
      "image/png": "[encoded data removed]",
      "text/plain": [
       "<matplotlib.figure.Figure at 0x1a370e3f128>"
      ]
     },
     "metadata": {},
     "output_type": "display_data"
    }
   ],
   "source": [
    "sns.barplot(x='process_name', y='process_counts', data = df_byuser.loc['C1183$@DOM1'])"
   ]
  },
  {
   "cell_type": "markdown",
   "metadata": {},
   "source": [
    "To see the most used computer, or the computer where the most processes were run, we get the maximum."
   ]
  },
  {
   "cell_type": "code",
   "execution_count": null,
   "metadata": {
    "collapsed": true
   },
   "outputs": [],
   "source": []
  },
  {
   "cell_type": "markdown",
   "metadata": {},
   "source": [
    "Let's plot this."
   ]
  },
  {
   "cell_type": "code",
   "execution_count": null,
   "metadata": {
    "collapsed": true
   },
   "outputs": [],
   "source": []
  },
  {
   "cell_type": "code",
   "execution_count": null,
   "metadata": {
    "collapsed": true
   },
   "outputs": [],
   "source": []
  },
  {
   "cell_type": "code",
   "execution_count": 22,
   "metadata": {},
   "outputs": [
    {
     "data": {
      "text/plain": [
       "username     computer\n",
       "C1$@DOM1     C1            9\n",
       "C10$@DOM1    C10          10\n",
       "C100$@DOM1   C100         17\n",
       "C1000$@DOM1  C1000         8\n",
       "C1001$@DOM1  C1001        11\n",
       "C1002$@DOM1  C1002         8\n",
       "C1003$@DOM1  C1003         5\n",
       "C1004$@DOM1  C1004         8\n",
       "C1005$@DOM1  C1005        10\n",
       "C1006$@DOM1  C1006        94\n",
       "C1007$@DOM1  C1007         8\n",
       "C1008$@DOM1  C1008         9\n",
       "C1009$@DOM1  C1009        12\n",
       "C101$@DOM1   C101        260\n",
       "C1010$@DOM1  C1010        28\n",
       "C1011$@DOM1  C1011        11\n",
       "C1012$@DOM1  C1012        14\n",
       "C1013$@DOM1  C1013        13\n",
       "C1014$@DOM1  C1014        11\n",
       "C1016$@DOM1  C1016        11\n",
       "C1017$@DOM1  C1017        12\n",
       "C1018$@DOM1  C1018        10\n",
       "C1019$@DOM1  C1019        20\n",
       "C1020$@DOM1  C1020        12\n",
       "C1021$@DOM1  C1021        18\n",
       "C1022$@DOM1  C1022        17\n",
       "C1023$@DOM1  C1023        17\n",
       "C1024$@DOM1  C1024         9\n",
       "C1026$@DOM1  C1026         8\n",
       "C1027$@DOM1  C1027        11\n",
       "                        ... \n",
       "U6@DOM1      C606          5\n",
       "             C449          3\n",
       "U726@DOM1    C1712         1\n",
       "U727@DOM1    C954          1\n",
       "U736@DOM1    C1637         1\n",
       "U737@DOM1    C1665         2\n",
       "U73@DOM1     C1692         6\n",
       "U744@DOM1    C5608         1\n",
       "U755@DOM1    C242          1\n",
       "U769@DOM1    C281          1\n",
       "U77@DOM1     C1722         4\n",
       "U78@DOM1     C2707        24\n",
       "             C1727        23\n",
       "U79@C1731    C1731       116\n",
       "U80@DOM1     C1538        10\n",
       "U81@C2547    C2547         3\n",
       "U82@DOM1     C1744        22\n",
       "U83@C1747    C1747       170\n",
       "U84@DOM1     C1751        10\n",
       "U89@DOM1     C580         10\n",
       "U90@DOM1     C1785        18\n",
       "             C1786        18\n",
       "U91@DOM1     C1787         5\n",
       "U92@DOM1     C730         20\n",
       "U95@DOM1     C2221        71\n",
       "             C2055        36\n",
       "             C2766        16\n",
       "U96@DOM1     C542          6\n",
       "U97@DOM1     C1825         6\n",
       "U98@DOM1     C1177        15\n",
       "Name: computer, Length: 3058, dtype: int64"
      ]
     },
     "execution_count": 22,
     "metadata": {},
     "output_type": "execute_result"
    }
   ],
   "source": [
    "cdf= df.groupby('username')['computer'].value_counts()\n",
    "cdf\n"
   ]
  },
  {
   "cell_type": "code",
   "execution_count": 23,
   "metadata": {},
   "outputs": [],
   "source": [
    "#df['z_score'] = df.groupby('computer')['process_name'].apply(lambda x: (x - x.mean())/x.std())"
   ]
  },
  {
   "cell_type": "code",
   "execution_count": 24,
   "metadata": {},
   "outputs": [
    {
     "data": {
      "text/plain": [
       "username\n",
       "C1$@DOM1         9\n",
       "C10$@DOM1       10\n",
       "C100$@DOM1      17\n",
       "C1000$@DOM1      8\n",
       "C1001$@DOM1     11\n",
       "C1002$@DOM1      8\n",
       "C1003$@DOM1      5\n",
       "C1004$@DOM1      8\n",
       "C1005$@DOM1     10\n",
       "C1006$@DOM1     94\n",
       "C1007$@DOM1      8\n",
       "C1008$@DOM1      9\n",
       "C1009$@DOM1     12\n",
       "C101$@DOM1     260\n",
       "C1010$@DOM1     28\n",
       "C1011$@DOM1     11\n",
       "C1012$@DOM1     14\n",
       "C1013$@DOM1     13\n",
       "C1014$@DOM1     11\n",
       "C1016$@DOM1     11\n",
       "C1017$@DOM1     12\n",
       "C1018$@DOM1     10\n",
       "C1019$@DOM1     20\n",
       "C1020$@DOM1     12\n",
       "C1021$@DOM1     18\n",
       "C1022$@DOM1     17\n",
       "C1023$@DOM1     17\n",
       "C1024$@DOM1      9\n",
       "C1026$@DOM1      8\n",
       "C1027$@DOM1     11\n",
       "              ... \n",
       "U67@C1723      230\n",
       "U67@C1933      168\n",
       "U67@C35         92\n",
       "U67@C822        69\n",
       "U691@DOM1        1\n",
       "U6@DOM1         47\n",
       "U726@DOM1        1\n",
       "U727@DOM1        1\n",
       "U736@DOM1        1\n",
       "U737@DOM1        2\n",
       "U73@DOM1         6\n",
       "U744@DOM1        1\n",
       "U755@DOM1        1\n",
       "U769@DOM1        1\n",
       "U77@DOM1         4\n",
       "U78@DOM1        47\n",
       "U79@C1731      116\n",
       "U80@DOM1        10\n",
       "U81@C2547        3\n",
       "U82@DOM1        22\n",
       "U83@C1747      170\n",
       "U84@DOM1        10\n",
       "U89@DOM1        10\n",
       "U90@DOM1        36\n",
       "U91@DOM1         5\n",
       "U92@DOM1        20\n",
       "U95@DOM1       123\n",
       "U96@DOM1         6\n",
       "U97@DOM1         6\n",
       "U98@DOM1        15\n",
       "Name: computer, Length: 3008, dtype: int64"
      ]
     },
     "execution_count": 24,
     "metadata": {},
     "output_type": "execute_result"
    }
   ],
   "source": [
    "num_com = df.groupby('username')['computer'].count()\n",
    "num_com"
   ]
  },
  {
   "cell_type": "markdown",
   "metadata": {
    "collapsed": true
   },
   "source": [
    "To find the most active user, we get the total of all of the users."
   ]
  },
  {
   "cell_type": "code",
   "execution_count": 25,
   "metadata": {},
   "outputs": [
    {
     "data": {
      "text/plain": [
       "<matplotlib.axes._subplots.AxesSubplot at 0x1a370ead710>"
      ]
     },
     "execution_count": 25,
     "metadata": {},
     "output_type": "execute_result"
    },
    {
     "data": {
      "image/png": "[encoded data removed]",
      "text/plain": [
       "<matplotlib.figure.Figure at 0x1a370c19518>"
      ]
     },
     "metadata": {},
     "output_type": "display_data"
    }
   ],
   "source": [
    "sns.distplot(num_com, color='r', axlabel='Number of Computer Used')"
   ]
  },
  {
   "cell_type": "code",
   "execution_count": 26,
   "metadata": {},
   "outputs": [
    {
     "data": {
      "text/plain": [
       "50000"
      ]
     },
     "execution_count": 26,
     "metadata": {},
     "output_type": "execute_result"
    }
   ],
   "source": [
    "df['computer'].count()"
   ]
  },
  {
   "cell_type": "code",
   "execution_count": 27,
   "metadata": {},
   "outputs": [
    {
     "data": {
      "text/plain": [
       "50000"
      ]
     },
     "execution_count": 27,
     "metadata": {},
     "output_type": "execute_result"
    }
   ],
   "source": [
    "df['username'].count()"
   ]
  },
  {
   "cell_type": "code",
   "execution_count": 28,
   "metadata": {},
   "outputs": [
    {
     "data": {
      "text/plain": [
       "311"
      ]
     },
     "execution_count": 28,
     "metadata": {},
     "output_type": "execute_result"
    }
   ],
   "source": [
    "df['process_name'].nunique()"
   ]
  },
  {
   "cell_type": "code",
   "execution_count": 29,
   "metadata": {},
   "outputs": [
    {
     "data": {
      "text/html": [
       "<div>\n",
       "<style>\n",
       "    .dataframe thead tr:only-child th {\n",
       "        text-align: right;\n",
       "    }\n",
       "\n",
       "    .dataframe thead th {\n",
       "        text-align: left;\n",
       "    }\n",
       "\n",
       "    .dataframe tbody tr th {\n",
       "        vertical-align: top;\n",
       "    }\n",
       "</style>\n",
       "<table border=\"1\" class=\"dataframe\">\n",
       "  <thead>\n",
       "    <tr style=\"text-align: right;\">\n",
       "      <th></th>\n",
       "      <th>time</th>\n",
       "      <th>username</th>\n",
       "      <th>computer</th>\n",
       "      <th>process_name</th>\n",
       "      <th>start_or_stop</th>\n",
       "    </tr>\n",
       "  </thead>\n",
       "  <tbody>\n",
       "    <tr>\n",
       "      <th>620</th>\n",
       "      <td>2</td>\n",
       "      <td>C1183$@DOM1</td>\n",
       "      <td>C1183</td>\n",
       "      <td>P144</td>\n",
       "      <td>Start</td>\n",
       "    </tr>\n",
       "    <tr>\n",
       "      <th>621</th>\n",
       "      <td>2</td>\n",
       "      <td>C1183$@DOM1</td>\n",
       "      <td>C1183</td>\n",
       "      <td>P271</td>\n",
       "      <td>End</td>\n",
       "    </tr>\n",
       "    <tr>\n",
       "      <th>622</th>\n",
       "      <td>2</td>\n",
       "      <td>C1183$@DOM1</td>\n",
       "      <td>C1183</td>\n",
       "      <td>P271</td>\n",
       "      <td>Start</td>\n",
       "    </tr>\n",
       "    <tr>\n",
       "      <th>623</th>\n",
       "      <td>2</td>\n",
       "      <td>C1183$@DOM1</td>\n",
       "      <td>C1183</td>\n",
       "      <td>P272</td>\n",
       "      <td>End</td>\n",
       "    </tr>\n",
       "    <tr>\n",
       "      <th>624</th>\n",
       "      <td>2</td>\n",
       "      <td>C1183$@DOM1</td>\n",
       "      <td>C1183</td>\n",
       "      <td>P272</td>\n",
       "      <td>Start</td>\n",
       "    </tr>\n",
       "    <tr>\n",
       "      <th>625</th>\n",
       "      <td>2</td>\n",
       "      <td>C1183$@DOM1</td>\n",
       "      <td>C1183</td>\n",
       "      <td>P5</td>\n",
       "      <td>Start</td>\n",
       "    </tr>\n",
       "    <tr>\n",
       "      <th>626</th>\n",
       "      <td>2</td>\n",
       "      <td>C1183$@DOM1</td>\n",
       "      <td>C1183</td>\n",
       "      <td>P8</td>\n",
       "      <td>Start</td>\n",
       "    </tr>\n",
       "    <tr>\n",
       "      <th>5902</th>\n",
       "      <td>40</td>\n",
       "      <td>C1183$@DOM1</td>\n",
       "      <td>C1183</td>\n",
       "      <td>P133</td>\n",
       "      <td>Start</td>\n",
       "    </tr>\n",
       "    <tr>\n",
       "      <th>6510</th>\n",
       "      <td>58</td>\n",
       "      <td>C1183$@DOM1</td>\n",
       "      <td>C1183</td>\n",
       "      <td>P133</td>\n",
       "      <td>End</td>\n",
       "    </tr>\n",
       "    <tr>\n",
       "      <th>8003</th>\n",
       "      <td>94</td>\n",
       "      <td>C1183$@DOM1</td>\n",
       "      <td>C1183</td>\n",
       "      <td>P144</td>\n",
       "      <td>End</td>\n",
       "    </tr>\n",
       "    <tr>\n",
       "      <th>8004</th>\n",
       "      <td>94</td>\n",
       "      <td>C1183$@DOM1</td>\n",
       "      <td>C1183</td>\n",
       "      <td>P5</td>\n",
       "      <td>End</td>\n",
       "    </tr>\n",
       "    <tr>\n",
       "      <th>8323</th>\n",
       "      <td>104</td>\n",
       "      <td>C1183$@DOM1</td>\n",
       "      <td>C1183</td>\n",
       "      <td>P16</td>\n",
       "      <td>Start</td>\n",
       "    </tr>\n",
       "    <tr>\n",
       "      <th>8467</th>\n",
       "      <td>110</td>\n",
       "      <td>C1183$@DOM1</td>\n",
       "      <td>C1183</td>\n",
       "      <td>P16</td>\n",
       "      <td>End</td>\n",
       "    </tr>\n",
       "    <tr>\n",
       "      <th>13441</th>\n",
       "      <td>244</td>\n",
       "      <td>C1183$@DOM1</td>\n",
       "      <td>C1183</td>\n",
       "      <td>P25</td>\n",
       "      <td>End</td>\n",
       "    </tr>\n",
       "    <tr>\n",
       "      <th>13442</th>\n",
       "      <td>244</td>\n",
       "      <td>C1183$@DOM1</td>\n",
       "      <td>C1183</td>\n",
       "      <td>P25</td>\n",
       "      <td>Start</td>\n",
       "    </tr>\n",
       "    <tr>\n",
       "      <th>13443</th>\n",
       "      <td>244</td>\n",
       "      <td>C1183$@DOM1</td>\n",
       "      <td>C1183</td>\n",
       "      <td>P5</td>\n",
       "      <td>End</td>\n",
       "    </tr>\n",
       "    <tr>\n",
       "      <th>13444</th>\n",
       "      <td>244</td>\n",
       "      <td>C1183$@DOM1</td>\n",
       "      <td>C1183</td>\n",
       "      <td>P5</td>\n",
       "      <td>Start</td>\n",
       "    </tr>\n",
       "    <tr>\n",
       "      <th>15383</th>\n",
       "      <td>302</td>\n",
       "      <td>C1183$@DOM1</td>\n",
       "      <td>C1183</td>\n",
       "      <td>P8</td>\n",
       "      <td>End</td>\n",
       "    </tr>\n",
       "    <tr>\n",
       "      <th>19061</th>\n",
       "      <td>408</td>\n",
       "      <td>C1183$@DOM1</td>\n",
       "      <td>C1183</td>\n",
       "      <td>P16</td>\n",
       "      <td>Start</td>\n",
       "    </tr>\n",
       "    <tr>\n",
       "      <th>19203</th>\n",
       "      <td>414</td>\n",
       "      <td>C1183$@DOM1</td>\n",
       "      <td>C1183</td>\n",
       "      <td>P16</td>\n",
       "      <td>End</td>\n",
       "    </tr>\n",
       "    <tr>\n",
       "      <th>29072</th>\n",
       "      <td>712</td>\n",
       "      <td>C1183$@DOM1</td>\n",
       "      <td>C1183</td>\n",
       "      <td>P16</td>\n",
       "      <td>Start</td>\n",
       "    </tr>\n",
       "    <tr>\n",
       "      <th>29231</th>\n",
       "      <td>718</td>\n",
       "      <td>C1183$@DOM1</td>\n",
       "      <td>C1183</td>\n",
       "      <td>P16</td>\n",
       "      <td>End</td>\n",
       "    </tr>\n",
       "    <tr>\n",
       "      <th>38703</th>\n",
       "      <td>1018</td>\n",
       "      <td>C1183$@DOM1</td>\n",
       "      <td>C1183</td>\n",
       "      <td>P16</td>\n",
       "      <td>Start</td>\n",
       "    </tr>\n",
       "    <tr>\n",
       "      <th>38881</th>\n",
       "      <td>1022</td>\n",
       "      <td>C1183$@DOM1</td>\n",
       "      <td>C1183</td>\n",
       "      <td>P16</td>\n",
       "      <td>End</td>\n",
       "    </tr>\n",
       "    <tr>\n",
       "      <th>47887</th>\n",
       "      <td>1322</td>\n",
       "      <td>C1183$@DOM1</td>\n",
       "      <td>C1183</td>\n",
       "      <td>P16</td>\n",
       "      <td>Start</td>\n",
       "    </tr>\n",
       "    <tr>\n",
       "      <th>48093</th>\n",
       "      <td>1326</td>\n",
       "      <td>C1183$@DOM1</td>\n",
       "      <td>C1183</td>\n",
       "      <td>P16</td>\n",
       "      <td>End</td>\n",
       "    </tr>\n",
       "  </tbody>\n",
       "</table>\n",
       "</div>"
      ],
      "text/plain": [
       "       time     username computer process_name start_or_stop\n",
       "620       2  C1183$@DOM1    C1183         P144         Start\n",
       "621       2  C1183$@DOM1    C1183         P271           End\n",
       "622       2  C1183$@DOM1    C1183         P271         Start\n",
       "623       2  C1183$@DOM1    C1183         P272           End\n",
       "624       2  C1183$@DOM1    C1183         P272         Start\n",
       "625       2  C1183$@DOM1    C1183           P5         Start\n",
       "626       2  C1183$@DOM1    C1183           P8         Start\n",
       "5902     40  C1183$@DOM1    C1183         P133         Start\n",
       "6510     58  C1183$@DOM1    C1183         P133           End\n",
       "8003     94  C1183$@DOM1    C1183         P144           End\n",
       "8004     94  C1183$@DOM1    C1183           P5           End\n",
       "8323    104  C1183$@DOM1    C1183          P16         Start\n",
       "8467    110  C1183$@DOM1    C1183          P16           End\n",
       "13441   244  C1183$@DOM1    C1183          P25           End\n",
       "13442   244  C1183$@DOM1    C1183          P25         Start\n",
       "13443   244  C1183$@DOM1    C1183           P5           End\n",
       "13444   244  C1183$@DOM1    C1183           P5         Start\n",
       "15383   302  C1183$@DOM1    C1183           P8           End\n",
       "19061   408  C1183$@DOM1    C1183          P16         Start\n",
       "19203   414  C1183$@DOM1    C1183          P16           End\n",
       "29072   712  C1183$@DOM1    C1183          P16         Start\n",
       "29231   718  C1183$@DOM1    C1183          P16           End\n",
       "38703  1018  C1183$@DOM1    C1183          P16         Start\n",
       "38881  1022  C1183$@DOM1    C1183          P16           End\n",
       "47887  1322  C1183$@DOM1    C1183          P16         Start\n",
       "48093  1326  C1183$@DOM1    C1183          P16           End"
      ]
     },
     "execution_count": 29,
     "metadata": {},
     "output_type": "execute_result"
    }
   ],
   "source": [
    "df[df['username']=='C1183$@DOM1']"
   ]
  }
 ],
 "metadata": {
  "kernelspec": {
   "display_name": "Python 3",
   "language": "python",
   "name": "python3"
  },
  "language_info": {
   "codemirror_mode": {
    "name": "ipython",
    "version": 3
   },
   "file_extension": ".py",
   "mimetype": "text/x-python",
   "name": "python",
   "nbconvert_exporter": "python",
   "pygments_lexer": "ipython3",
   "version": "3.6.1"
  }
 },
 "nbformat": 4,
 "nbformat_minor": 2
}
